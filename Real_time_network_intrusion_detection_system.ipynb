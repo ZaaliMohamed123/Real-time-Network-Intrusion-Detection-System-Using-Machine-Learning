{
  "cells": [
    {
      "cell_type": "markdown",
      "metadata": {
        "id": "t8rtUrRB-xTK"
      },
      "source": [
        "Importing the Libraries"
      ]
    },
    {
      "cell_type": "code",
      "execution_count": 2,
      "metadata": {
        "id": "aGOKUUZQ8uo5"
      },
      "outputs": [],
      "source": [
        "import numpy as np\n",
        "import pandas as pd\n",
        "import matplotlib.pyplot as plt\n",
        "import seaborn as sns\n",
        "from sklearn.model_selection import train_test_split,cross_val_score,GridSearchCV\n",
        "from sklearn.ensemble import RandomForestClassifier,GradientBoostingClassifier\n",
        "from xgboost import XGBClassifier\n",
        "from sklearn.neighbors import KNeighborsClassifier\n",
        "from sklearn.metrics import accuracy_score, confusion_matrix, classification_report\n",
        "import joblib"
      ]
    },
    {
      "cell_type": "markdown",
      "metadata": {
        "id": "mMp6575e-2KC"
      },
      "source": [
        "### **1. Data Collection**"
      ]
    },
    {
      "cell_type": "code",
      "execution_count": 3,
      "metadata": {
        "id": "S1Ga-QtQ-7HB"
      },
      "outputs": [],
      "source": [
        "#loading the CSV file into and Pandas DataFrame\n",
        "IOT_Device_Network_Log = pd.read_csv('IOT Device Network Log.csv')"
      ]
    },
    {
      "cell_type": "code",
      "execution_count": 4,
      "metadata": {
        "colab": {
          "base_uri": "https://localhost:8080/",
          "height": 226
        },
        "id": "FjhXR6Ax_IL3",
        "outputId": "3ea33c71-2839-4109-a1bc-1ba787deede5"
      },
      "outputs": [
        {
          "data": {
            "text/html": [
              "<div>\n",
              "<style scoped>\n",
              "    .dataframe tbody tr th:only-of-type {\n",
              "        vertical-align: middle;\n",
              "    }\n",
              "\n",
              "    .dataframe tbody tr th {\n",
              "        vertical-align: top;\n",
              "    }\n",
              "\n",
              "    .dataframe thead th {\n",
              "        text-align: right;\n",
              "    }\n",
              "</style>\n",
              "<table border=\"1\" class=\"dataframe\">\n",
              "  <thead>\n",
              "    <tr style=\"text-align: right;\">\n",
              "      <th></th>\n",
              "      <th>frame.number</th>\n",
              "      <th>frame.time</th>\n",
              "      <th>frame.len</th>\n",
              "      <th>eth.src</th>\n",
              "      <th>eth.dst</th>\n",
              "      <th>ip.src</th>\n",
              "      <th>ip.dst</th>\n",
              "      <th>ip.proto</th>\n",
              "      <th>ip.len</th>\n",
              "      <th>tcp.len</th>\n",
              "      <th>tcp.srcport</th>\n",
              "      <th>tcp.dstport</th>\n",
              "      <th>Value</th>\n",
              "      <th>normality</th>\n",
              "    </tr>\n",
              "  </thead>\n",
              "  <tbody>\n",
              "    <tr>\n",
              "      <th>0</th>\n",
              "      <td>1</td>\n",
              "      <td>123722736684743</td>\n",
              "      <td>54</td>\n",
              "      <td>87971959760497</td>\n",
              "      <td>167275820076079</td>\n",
              "      <td>192168035</td>\n",
              "      <td>1921680121</td>\n",
              "      <td>6.0</td>\n",
              "      <td>40.0</td>\n",
              "      <td>0.0</td>\n",
              "      <td>49279.0</td>\n",
              "      <td>80.0</td>\n",
              "      <td>-99.0</td>\n",
              "      <td>0</td>\n",
              "    </tr>\n",
              "    <tr>\n",
              "      <th>1</th>\n",
              "      <td>2</td>\n",
              "      <td>123722736773147</td>\n",
              "      <td>62</td>\n",
              "      <td>87971959760497</td>\n",
              "      <td>167275820076079</td>\n",
              "      <td>192168035</td>\n",
              "      <td>1921680121</td>\n",
              "      <td>6.0</td>\n",
              "      <td>48.0</td>\n",
              "      <td>0.0</td>\n",
              "      <td>56521.0</td>\n",
              "      <td>80.0</td>\n",
              "      <td>-99.0</td>\n",
              "      <td>0</td>\n",
              "    </tr>\n",
              "    <tr>\n",
              "      <th>2</th>\n",
              "      <td>3</td>\n",
              "      <td>123722736824792</td>\n",
              "      <td>62</td>\n",
              "      <td>167275820076079</td>\n",
              "      <td>87971959760497</td>\n",
              "      <td>1921680121</td>\n",
              "      <td>192168035</td>\n",
              "      <td>6.0</td>\n",
              "      <td>48.0</td>\n",
              "      <td>0.0</td>\n",
              "      <td>80.0</td>\n",
              "      <td>56521.0</td>\n",
              "      <td>-99.0</td>\n",
              "      <td>0</td>\n",
              "    </tr>\n",
              "    <tr>\n",
              "      <th>3</th>\n",
              "      <td>4</td>\n",
              "      <td>123722736836228</td>\n",
              "      <td>54</td>\n",
              "      <td>167275820076079</td>\n",
              "      <td>87971959760497</td>\n",
              "      <td>1921680121</td>\n",
              "      <td>192168035</td>\n",
              "      <td>6.0</td>\n",
              "      <td>40.0</td>\n",
              "      <td>0.0</td>\n",
              "      <td>80.0</td>\n",
              "      <td>49279.0</td>\n",
              "      <td>-99.0</td>\n",
              "      <td>0</td>\n",
              "    </tr>\n",
              "    <tr>\n",
              "      <th>4</th>\n",
              "      <td>5</td>\n",
              "      <td>123722749684991</td>\n",
              "      <td>54</td>\n",
              "      <td>87971959760497</td>\n",
              "      <td>167275820076079</td>\n",
              "      <td>192168035</td>\n",
              "      <td>1921680121</td>\n",
              "      <td>6.0</td>\n",
              "      <td>40.0</td>\n",
              "      <td>0.0</td>\n",
              "      <td>56521.0</td>\n",
              "      <td>80.0</td>\n",
              "      <td>-99.0</td>\n",
              "      <td>0</td>\n",
              "    </tr>\n",
              "  </tbody>\n",
              "</table>\n",
              "</div>"
            ],
            "text/plain": [
              "   frame.number       frame.time  frame.len          eth.src          eth.dst  \\\n",
              "0             1  123722736684743         54   87971959760497  167275820076079   \n",
              "1             2  123722736773147         62   87971959760497  167275820076079   \n",
              "2             3  123722736824792         62  167275820076079   87971959760497   \n",
              "3             4  123722736836228         54  167275820076079   87971959760497   \n",
              "4             5  123722749684991         54   87971959760497  167275820076079   \n",
              "\n",
              "       ip.src      ip.dst  ip.proto  ip.len  tcp.len  tcp.srcport  \\\n",
              "0   192168035  1921680121       6.0    40.0      0.0      49279.0   \n",
              "1   192168035  1921680121       6.0    48.0      0.0      56521.0   \n",
              "2  1921680121   192168035       6.0    48.0      0.0         80.0   \n",
              "3  1921680121   192168035       6.0    40.0      0.0         80.0   \n",
              "4   192168035  1921680121       6.0    40.0      0.0      56521.0   \n",
              "\n",
              "   tcp.dstport  Value  normality  \n",
              "0         80.0  -99.0          0  \n",
              "1         80.0  -99.0          0  \n",
              "2      56521.0  -99.0          0  \n",
              "3      49279.0  -99.0          0  \n",
              "4         80.0  -99.0          0  "
            ]
          },
          "execution_count": 4,
          "metadata": {},
          "output_type": "execute_result"
        }
      ],
      "source": [
        "#first 5 rows\n",
        "IOT_Device_Network_Log.head()"
      ]
    },
    {
      "cell_type": "code",
      "execution_count": 5,
      "metadata": {
        "colab": {
          "base_uri": "https://localhost:8080/",
          "height": 226
        },
        "id": "sqo5f6M8_Jls",
        "outputId": "8e4e13ba-e72d-4307-b6e0-dcb4569df92b"
      },
      "outputs": [
        {
          "data": {
            "text/html": [
              "<div>\n",
              "<style scoped>\n",
              "    .dataframe tbody tr th:only-of-type {\n",
              "        vertical-align: middle;\n",
              "    }\n",
              "\n",
              "    .dataframe tbody tr th {\n",
              "        vertical-align: top;\n",
              "    }\n",
              "\n",
              "    .dataframe thead th {\n",
              "        text-align: right;\n",
              "    }\n",
              "</style>\n",
              "<table border=\"1\" class=\"dataframe\">\n",
              "  <thead>\n",
              "    <tr style=\"text-align: right;\">\n",
              "      <th></th>\n",
              "      <th>frame.number</th>\n",
              "      <th>frame.time</th>\n",
              "      <th>frame.len</th>\n",
              "      <th>eth.src</th>\n",
              "      <th>eth.dst</th>\n",
              "      <th>ip.src</th>\n",
              "      <th>ip.dst</th>\n",
              "      <th>ip.proto</th>\n",
              "      <th>ip.len</th>\n",
              "      <th>tcp.len</th>\n",
              "      <th>tcp.srcport</th>\n",
              "      <th>tcp.dstport</th>\n",
              "      <th>Value</th>\n",
              "      <th>normality</th>\n",
              "    </tr>\n",
              "  </thead>\n",
              "  <tbody>\n",
              "    <tr>\n",
              "      <th>477421</th>\n",
              "      <td>87181</td>\n",
              "      <td>128413885087438</td>\n",
              "      <td>42</td>\n",
              "      <td>167275820076079</td>\n",
              "      <td>87971959760497</td>\n",
              "      <td>0</td>\n",
              "      <td>0</td>\n",
              "      <td>-1.0</td>\n",
              "      <td>0.0</td>\n",
              "      <td>0.0</td>\n",
              "      <td>0.0</td>\n",
              "      <td>0.0</td>\n",
              "      <td>-5.0</td>\n",
              "      <td>5</td>\n",
              "    </tr>\n",
              "    <tr>\n",
              "      <th>477422</th>\n",
              "      <td>69378</td>\n",
              "      <td>127166820599383</td>\n",
              "      <td>42</td>\n",
              "      <td>167275820076079</td>\n",
              "      <td>87971959760497</td>\n",
              "      <td>0</td>\n",
              "      <td>0</td>\n",
              "      <td>-1.0</td>\n",
              "      <td>0.0</td>\n",
              "      <td>0.0</td>\n",
              "      <td>0.0</td>\n",
              "      <td>0.0</td>\n",
              "      <td>-5.0</td>\n",
              "      <td>5</td>\n",
              "    </tr>\n",
              "    <tr>\n",
              "      <th>477423</th>\n",
              "      <td>81928</td>\n",
              "      <td>126800153119873</td>\n",
              "      <td>42</td>\n",
              "      <td>167275820076079</td>\n",
              "      <td>87971959760497</td>\n",
              "      <td>0</td>\n",
              "      <td>0</td>\n",
              "      <td>-1.0</td>\n",
              "      <td>0.0</td>\n",
              "      <td>0.0</td>\n",
              "      <td>0.0</td>\n",
              "      <td>0.0</td>\n",
              "      <td>-5.0</td>\n",
              "      <td>5</td>\n",
              "    </tr>\n",
              "    <tr>\n",
              "      <th>477424</th>\n",
              "      <td>37052</td>\n",
              "      <td>124902446969093</td>\n",
              "      <td>42</td>\n",
              "      <td>167275820076079</td>\n",
              "      <td>87971959760497</td>\n",
              "      <td>0</td>\n",
              "      <td>0</td>\n",
              "      <td>-1.0</td>\n",
              "      <td>0.0</td>\n",
              "      <td>0.0</td>\n",
              "      <td>0.0</td>\n",
              "      <td>0.0</td>\n",
              "      <td>-5.0</td>\n",
              "      <td>5</td>\n",
              "    </tr>\n",
              "    <tr>\n",
              "      <th>477425</th>\n",
              "      <td>78990</td>\n",
              "      <td>128113220512685</td>\n",
              "      <td>42</td>\n",
              "      <td>167275820076079</td>\n",
              "      <td>87971959760497</td>\n",
              "      <td>0</td>\n",
              "      <td>0</td>\n",
              "      <td>-1.0</td>\n",
              "      <td>0.0</td>\n",
              "      <td>0.0</td>\n",
              "      <td>0.0</td>\n",
              "      <td>0.0</td>\n",
              "      <td>-5.0</td>\n",
              "      <td>5</td>\n",
              "    </tr>\n",
              "  </tbody>\n",
              "</table>\n",
              "</div>"
            ],
            "text/plain": [
              "        frame.number       frame.time  frame.len          eth.src  \\\n",
              "477421         87181  128413885087438         42  167275820076079   \n",
              "477422         69378  127166820599383         42  167275820076079   \n",
              "477423         81928  126800153119873         42  167275820076079   \n",
              "477424         37052  124902446969093         42  167275820076079   \n",
              "477425         78990  128113220512685         42  167275820076079   \n",
              "\n",
              "               eth.dst  ip.src  ip.dst  ip.proto  ip.len  tcp.len  \\\n",
              "477421  87971959760497       0       0      -1.0     0.0      0.0   \n",
              "477422  87971959760497       0       0      -1.0     0.0      0.0   \n",
              "477423  87971959760497       0       0      -1.0     0.0      0.0   \n",
              "477424  87971959760497       0       0      -1.0     0.0      0.0   \n",
              "477425  87971959760497       0       0      -1.0     0.0      0.0   \n",
              "\n",
              "        tcp.srcport  tcp.dstport  Value  normality  \n",
              "477421          0.0          0.0   -5.0          5  \n",
              "477422          0.0          0.0   -5.0          5  \n",
              "477423          0.0          0.0   -5.0          5  \n",
              "477424          0.0          0.0   -5.0          5  \n",
              "477425          0.0          0.0   -5.0          5  "
            ]
          },
          "execution_count": 5,
          "metadata": {},
          "output_type": "execute_result"
        }
      ],
      "source": [
        "#last 5 rows\n",
        "IOT_Device_Network_Log.tail()"
      ]
    },
    {
      "cell_type": "code",
      "execution_count": 6,
      "metadata": {
        "colab": {
          "base_uri": "https://localhost:8080/"
        },
        "id": "xgm9m1D2GxfR",
        "outputId": "cfc57d93-bd2c-4ee7-9360-8a1e2c442ec8"
      },
      "outputs": [
        {
          "data": {
            "text/plain": [
              "Index(['frame.number', 'frame.time', 'frame.len', 'eth.src', 'eth.dst',\n",
              "       'ip.src', 'ip.dst', 'ip.proto', 'ip.len', 'tcp.len', 'tcp.srcport',\n",
              "       'tcp.dstport', 'Value', 'normality'],\n",
              "      dtype='object')"
            ]
          },
          "execution_count": 6,
          "metadata": {},
          "output_type": "execute_result"
        }
      ],
      "source": [
        "IOT_Device_Network_Log.columns"
      ]
    },
    {
      "cell_type": "markdown",
      "metadata": {
        "id": "h_H_uMNQ_uow"
      },
      "source": [
        "[Link to the Dataset](https://www.kaggle.com/datasets/speedwall10/iot-device-network-logs?select=Preprocessed_data.csv)\n",
        "\n",
        "**About Dataset**\n",
        "\n",
        "Preprocessed dataset for network based intrusion detection system in Iot Devices. Ultrasonic Sensor with Arduino and NodeMCU used to monitor the network and collect the network logs. NodeMCU with ESP8266 wifi module was used to send data to the server via wifi.\n",
        "\n",
        "**Explanation of each feature in the IoT Device Network Log dataset:**\n",
        "\n",
        "1. **frame.number**: Sequential identifier for each frame (or packet) captured in the network log.\n",
        "2. **frame.time**: Timestamp of when each frame was captured, providing precise timing information.\n",
        "3. **frame.len**: Length of each frame in bytes, indicating the size of each packet.\n",
        "4. **eth.src**: Source Ethernet (MAC) address from where the packet originated.\n",
        "5. **eth.dst**: Destination Ethernet (MAC) address to which the packet is being sent.\n",
        "6. **ip.src**: Source IP address from where the packet originated.\n",
        "7. **ip.dst**: Destination IP address to which the packet is being sent.\n",
        "8. **ip.proto**: IP protocol used in the packet, indicating the higher-level protocol (e.g., TCP, UDP, ICMP).\n",
        "9. **ip.len**: Length of the IP packet, including the IP header and data.\n",
        "10. **tcp.len**: Length of the TCP segment, including the TCP header and data.\n",
        "11. **tcp.srcport**: Source port number in the TCP segment, identifying the sending port at the source device.\n",
        "12. **tcp.dstport**: Destination port number in the TCP segment, identifying the receiving port at the destination device.\n",
        "13. **Value**: Specific measured value or a custom field related to the data being analyzed (e.g., sensor values or specific metrics). This could be specific to the setup involving the ultrasonic sensor and network conditions.\n",
        "14. **normality**: Target column indicating the type of network traffic with the following values:\n",
        "\n",
        "* 0 - Normal:\n",
        "\n",
        " * This represents typical, expected network traffic with no malicious activity. The data packets are transmitted and received as intended without any interference or abnormal patterns.\n",
        "* 1 - Wrong setup:\n",
        "\n",
        " * This indicates an incorrect network configuration or setup, which could lead to communication issues. Examples include incorrect IP addresses, misconfigured routers, or faulty device settings that disrupt normal network operations.\n",
        "* 2 - DDoS (Distributed Denial of Service):\n",
        "\n",
        " * This type of traffic involves a coordinated attack from multiple sources aimed at overwhelming a network or server, rendering it unavailable to legitimate users. The attackers flood the target with a high volume of traffic to exhaust resources and disrupt normal service.\n",
        "* 3 - Data type probing:\n",
        "\n",
        " * This involves sending data packets with unusual or unexpected data types to the server, often to test for vulnerabilities. For instance, sending string values to a server expecting different data types (e.g., numeric or binary data) can help identify weaknesses in the server's handling of data.\n",
        "* 4 - Scan attack:\n",
        "\n",
        " * This type of attack involves systematically probing a network to identify open ports, active IP addresses, and services running on the network. The goal is to gather information that can be used for further attacks, such as exploiting vulnerabilities in discovered services.\n",
        "* 5 - Man in the middle:\n",
        "\n",
        " * This attack occurs when an attacker intercepts and possibly alters the communication between two parties without their knowledge. The attacker can eavesdrop on the conversation, steal sensitive data, or inject malicious content into the communication stream."
      ]
    },
    {
      "cell_type": "markdown",
      "metadata": {
        "id": "1uDcTECE_TMf"
      },
      "source": [
        "### **2. Data Analysis**"
      ]
    },
    {
      "cell_type": "code",
      "execution_count": 7,
      "metadata": {
        "colab": {
          "base_uri": "https://localhost:8080/"
        },
        "id": "GLwUbN5I_L1l",
        "outputId": "bf61e9aa-dc53-4a1b-df57-72fad8bd16cc"
      },
      "outputs": [
        {
          "data": {
            "text/plain": [
              "(477426, 14)"
            ]
          },
          "execution_count": 7,
          "metadata": {},
          "output_type": "execute_result"
        }
      ],
      "source": [
        "#number of rows and columns\n",
        "IOT_Device_Network_Log.shape"
      ]
    },
    {
      "cell_type": "code",
      "execution_count": 8,
      "metadata": {
        "colab": {
          "base_uri": "https://localhost:8080/",
          "height": 523
        },
        "id": "k7Oq0rG8GTVC",
        "outputId": "175bdc8b-5ee6-47c6-905b-b92536c410a4"
      },
      "outputs": [
        {
          "data": {
            "text/plain": [
              "frame.number    0\n",
              "frame.time      0\n",
              "frame.len       0\n",
              "eth.src         0\n",
              "eth.dst         0\n",
              "ip.src          0\n",
              "ip.dst          0\n",
              "ip.proto        0\n",
              "ip.len          0\n",
              "tcp.len         0\n",
              "tcp.srcport     0\n",
              "tcp.dstport     0\n",
              "Value           0\n",
              "normality       0\n",
              "dtype: int64"
            ]
          },
          "execution_count": 8,
          "metadata": {},
          "output_type": "execute_result"
        }
      ],
      "source": [
        "#checking for missing values\n",
        "IOT_Device_Network_Log.isnull().sum()"
      ]
    },
    {
      "cell_type": "code",
      "execution_count": 9,
      "metadata": {
        "colab": {
          "base_uri": "https://localhost:8080/"
        },
        "id": "Ia58XzUb_NOP",
        "outputId": "c5af4bb8-dbf7-4bc3-8da1-49f0723d0c1f"
      },
      "outputs": [
        {
          "name": "stdout",
          "output_type": "stream",
          "text": [
            "<class 'pandas.core.frame.DataFrame'>\n",
            "RangeIndex: 477426 entries, 0 to 477425\n",
            "Data columns (total 14 columns):\n",
            " #   Column        Non-Null Count   Dtype  \n",
            "---  ------        --------------   -----  \n",
            " 0   frame.number  477426 non-null  int64  \n",
            " 1   frame.time    477426 non-null  int64  \n",
            " 2   frame.len     477426 non-null  int64  \n",
            " 3   eth.src       477426 non-null  int64  \n",
            " 4   eth.dst       477426 non-null  int64  \n",
            " 5   ip.src        477426 non-null  int64  \n",
            " 6   ip.dst        477426 non-null  int64  \n",
            " 7   ip.proto      477426 non-null  float64\n",
            " 8   ip.len        477426 non-null  float64\n",
            " 9   tcp.len       477426 non-null  float64\n",
            " 10  tcp.srcport   477426 non-null  float64\n",
            " 11  tcp.dstport   477426 non-null  float64\n",
            " 12  Value         477426 non-null  float64\n",
            " 13  normality     477426 non-null  int64  \n",
            "dtypes: float64(6), int64(8)\n",
            "memory usage: 51.0 MB\n"
          ]
        }
      ],
      "source": [
        "# Display a summary of the DataFrame, including the number of non-null entries and data types of each column\n",
        "IOT_Device_Network_Log.info()"
      ]
    },
    {
      "cell_type": "code",
      "execution_count": 10,
      "metadata": {
        "colab": {
          "base_uri": "https://localhost:8080/",
          "height": 303
        },
        "id": "wMaK-MLeFhUk",
        "outputId": "ea0bbfcf-c6e9-4a77-bb98-04ac4e10ec73"
      },
      "outputs": [
        {
          "data": {
            "text/plain": [
              "normality\n",
              "1    82285\n",
              "4    79052\n",
              "0    79035\n",
              "5    79032\n",
              "2    79020\n",
              "3    79002\n",
              "Name: count, dtype: int64"
            ]
          },
          "execution_count": 10,
          "metadata": {},
          "output_type": "execute_result"
        }
      ],
      "source": [
        "## Count the occurrences of each unique value in the 'normality' column and display the results\n",
        "IOT_Device_Network_Log.normality.value_counts()"
      ]
    },
    {
      "cell_type": "markdown",
      "metadata": {
        "id": "wYJDk2YqIANI"
      },
      "source": [
        "The dataset is complete with no missing values and is balanced. This completeness helps in building robust models without the need for imputation or handling missing data and without the need for handling imbalanced dataset."
      ]
    },
    {
      "cell_type": "markdown",
      "metadata": {
        "id": "1s9CFcvZJMow"
      },
      "source": [
        "### **3. Data Splitting**"
      ]
    },
    {
      "cell_type": "markdown",
      "metadata": {
        "id": "TT5QUjeJJP_Z"
      },
      "source": [
        "The best features for training a network intrusion detection model involves understanding which aspects of the network traffic are most indicative of different types of intrusions. Based on the dataset, the following features are valuable:\n",
        "\n",
        "**Frame-level Features:**\n",
        "\n",
        "* frame.len: Packet size can be indicative of certain types of attacks, such as DDoS (large number of packets of similar size) or data exfiltration (larger packets).\n",
        "\n",
        "**Ethernet-level Features:**\n",
        "\n",
        "* eth.src and eth.dst: Source and destination MAC addresses can help identify unusual patterns of communication, such as repeated attempts to connect to different devices (scanning) or unexpected devices communicating with each other (man-in-the-middle).\n",
        "\n",
        "**IP-level Features:**\n",
        "\n",
        "* ip.src and ip.dst: Source and destination IP addresses are crucial for identifying unusual or unauthorized communication patterns. Anomalies in IP addresses can indicate various attacks.\n",
        "ip.proto: Different protocols (e.g., TCP, UDP, ICMP) can indicate different types of traffic. Certain attacks may use specific protocols.\n",
        "\n",
        "**TCP-level Features:**\n",
        "\n",
        "* tcp.srcport and tcp.dstport: Source and destination port numbers can help identify unusual port usage, which is often a sign of scanning or port-based attacks.\n",
        "* tcp.len: Similar to frame length, TCP segment length can provide insights into the nature of the traffic.\n",
        "\n",
        "**Temporal Features:**\n",
        "\n",
        "* frame.time: Time of packet capture can help in identifying patterns over time, such as bursts of activity that might indicate a DDoS attack or periodic probing attempts."
      ]
    },
    {
      "cell_type": "code",
      "execution_count": 11,
      "metadata": {
        "id": "6MVyrwgNLP_A"
      },
      "outputs": [],
      "source": [
        "features = IOT_Device_Network_Log.drop(columns=['frame.number','Value','normality'], axis=1)\n",
        "target = IOT_Device_Network_Log['normality']"
      ]
    },
    {
      "cell_type": "markdown",
      "metadata": {
        "id": "LB8CZgm1LuEq"
      },
      "source": [
        "### **4. Model Selection**"
      ]
    },
    {
      "cell_type": "markdown",
      "metadata": {
        "id": "DPx8zjkqL38e"
      },
      "source": [
        "Model Selection using Cross-Validation:"
      ]
    },
    {
      "cell_type": "code",
      "execution_count": 12,
      "metadata": {
        "id": "K5SV7D4PLqbV"
      },
      "outputs": [],
      "source": [
        "models = [RandomForestClassifier(),GradientBoostingClassifier(),XGBClassifier(),KNeighborsClassifier()]"
      ]
    },
    {
      "cell_type": "code",
      "execution_count": 13,
      "metadata": {
        "id": "2I-g8NAcL7I2"
      },
      "outputs": [
        {
          "name": "stdout",
          "output_type": "stream",
          "text": [
            "Model used: RandomForestClassifier()\n",
            "Cross Validation accuracies = [0.99858618 0.99496256 0.99323454 0.96756559 0.98412316]\n",
            "Accuracy score = 98.77 %\n",
            "---------------------------------------------------------------\n",
            "Model used: GradientBoostingClassifier()\n",
            "Cross Validation accuracies = [0.99808349 0.99766455 0.9987642  0.996722   0.99886893]\n",
            "Accuracy score = 99.8 %\n",
            "---------------------------------------------------------------\n",
            "Model used: XGBClassifier(base_score=None, booster=None, callbacks=None,\n",
            "              colsample_bylevel=None, colsample_bynode=None,\n",
            "              colsample_bytree=None, device=None, early_stopping_rounds=None,\n",
            "              enable_categorical=False, eval_metric=None, feature_types=None,\n",
            "              gamma=None, grow_policy=None, importance_type=None,\n",
            "              interaction_constraints=None, learning_rate=None, max_bin=None,\n",
            "              max_cat_threshold=None, max_cat_to_onehot=None,\n",
            "              max_delta_step=None, max_depth=None, max_leaves=None,\n",
            "              min_child_weight=None, missing=nan, monotone_constraints=None,\n",
            "              multi_strategy=None, n_estimators=None, n_jobs=None,\n",
            "              num_parallel_tree=None, random_state=None, ...)\n",
            "Cross Validation accuracies = [0.9983872  0.99673247 0.99549667 0.99533958 0.98454207]\n",
            "Accuracy score = 99.41 %\n",
            "---------------------------------------------------------------\n",
            "Model used: KNeighborsClassifier()\n",
            "Cross Validation accuracies = [0.52265254 0.62357438 0.54934283 0.69756506 0.52286747]\n",
            "Accuracy score = 58.32 %\n",
            "---------------------------------------------------------------\n"
          ]
        }
      ],
      "source": [
        "# Iterate over the list of models\n",
        "for model in models:\n",
        "    # Perform cross-validation with 5 folds and compute the accuracy scores\n",
        "    cv_score = cross_val_score(model, features, target, cv=5)\n",
        "\n",
        "    # Calculate the mean accuracy score from the cross-validation results\n",
        "    mean_accuracy = cv_score.mean()\n",
        "\n",
        "\n",
        "    print('Model used:', model)\n",
        "    print('Cross Validation accuracies =', cv_score)\n",
        "    print('Accuracy score =', round(mean_accuracy * 100, 2), '%')\n",
        "    print('---------------------------------------------------------------')"
      ]
    },
    {
      "cell_type": "markdown",
      "metadata": {},
      "source": [
        "* Best Performing Model: GradientBoostingClassifier (highest accuracy and consistent performance).\n",
        "* Other Strong Models: RandomForestClassifier and XGBClassifier.\n",
        "* KNeighborsClassifier shows the lowest performance."
      ]
    },
    {
      "cell_type": "markdown",
      "metadata": {},
      "source": [
        "### **5. Model Training :**"
      ]
    },
    {
      "cell_type": "code",
      "execution_count": 14,
      "metadata": {},
      "outputs": [],
      "source": [
        "X_train,X_test,Y_train,Y_test = train_test_split(features,target,test_size=0.2,stratify=target,random_state=2)"
      ]
    },
    {
      "cell_type": "code",
      "execution_count": 15,
      "metadata": {},
      "outputs": [],
      "source": [
        "classifier = GradientBoostingClassifier()"
      ]
    },
    {
      "cell_type": "code",
      "execution_count": 16,
      "metadata": {},
      "outputs": [
        {
          "data": {
            "text/html": [
              "<style>#sk-container-id-1 {\n",
              "  /* Definition of color scheme common for light and dark mode */\n",
              "  --sklearn-color-text: black;\n",
              "  --sklearn-color-line: gray;\n",
              "  /* Definition of color scheme for unfitted estimators */\n",
              "  --sklearn-color-unfitted-level-0: #fff5e6;\n",
              "  --sklearn-color-unfitted-level-1: #f6e4d2;\n",
              "  --sklearn-color-unfitted-level-2: #ffe0b3;\n",
              "  --sklearn-color-unfitted-level-3: chocolate;\n",
              "  /* Definition of color scheme for fitted estimators */\n",
              "  --sklearn-color-fitted-level-0: #f0f8ff;\n",
              "  --sklearn-color-fitted-level-1: #d4ebff;\n",
              "  --sklearn-color-fitted-level-2: #b3dbfd;\n",
              "  --sklearn-color-fitted-level-3: cornflowerblue;\n",
              "\n",
              "  /* Specific color for light theme */\n",
              "  --sklearn-color-text-on-default-background: var(--sg-text-color, var(--theme-code-foreground, var(--jp-content-font-color1, black)));\n",
              "  --sklearn-color-background: var(--sg-background-color, var(--theme-background, var(--jp-layout-color0, white)));\n",
              "  --sklearn-color-border-box: var(--sg-text-color, var(--theme-code-foreground, var(--jp-content-font-color1, black)));\n",
              "  --sklearn-color-icon: #696969;\n",
              "\n",
              "  @media (prefers-color-scheme: dark) {\n",
              "    /* Redefinition of color scheme for dark theme */\n",
              "    --sklearn-color-text-on-default-background: var(--sg-text-color, var(--theme-code-foreground, var(--jp-content-font-color1, white)));\n",
              "    --sklearn-color-background: var(--sg-background-color, var(--theme-background, var(--jp-layout-color0, #111)));\n",
              "    --sklearn-color-border-box: var(--sg-text-color, var(--theme-code-foreground, var(--jp-content-font-color1, white)));\n",
              "    --sklearn-color-icon: #878787;\n",
              "  }\n",
              "}\n",
              "\n",
              "#sk-container-id-1 {\n",
              "  color: var(--sklearn-color-text);\n",
              "}\n",
              "\n",
              "#sk-container-id-1 pre {\n",
              "  padding: 0;\n",
              "}\n",
              "\n",
              "#sk-container-id-1 input.sk-hidden--visually {\n",
              "  border: 0;\n",
              "  clip: rect(1px 1px 1px 1px);\n",
              "  clip: rect(1px, 1px, 1px, 1px);\n",
              "  height: 1px;\n",
              "  margin: -1px;\n",
              "  overflow: hidden;\n",
              "  padding: 0;\n",
              "  position: absolute;\n",
              "  width: 1px;\n",
              "}\n",
              "\n",
              "#sk-container-id-1 div.sk-dashed-wrapped {\n",
              "  border: 1px dashed var(--sklearn-color-line);\n",
              "  margin: 0 0.4em 0.5em 0.4em;\n",
              "  box-sizing: border-box;\n",
              "  padding-bottom: 0.4em;\n",
              "  background-color: var(--sklearn-color-background);\n",
              "}\n",
              "\n",
              "#sk-container-id-1 div.sk-container {\n",
              "  /* jupyter's `normalize.less` sets `[hidden] { display: none; }`\n",
              "     but bootstrap.min.css set `[hidden] { display: none !important; }`\n",
              "     so we also need the `!important` here to be able to override the\n",
              "     default hidden behavior on the sphinx rendered scikit-learn.org.\n",
              "     See: https://github.com/scikit-learn/scikit-learn/issues/21755 */\n",
              "  display: inline-block !important;\n",
              "  position: relative;\n",
              "}\n",
              "\n",
              "#sk-container-id-1 div.sk-text-repr-fallback {\n",
              "  display: none;\n",
              "}\n",
              "\n",
              "div.sk-parallel-item,\n",
              "div.sk-serial,\n",
              "div.sk-item {\n",
              "  /* draw centered vertical line to link estimators */\n",
              "  background-image: linear-gradient(var(--sklearn-color-text-on-default-background), var(--sklearn-color-text-on-default-background));\n",
              "  background-size: 2px 100%;\n",
              "  background-repeat: no-repeat;\n",
              "  background-position: center center;\n",
              "}\n",
              "\n",
              "/* Parallel-specific style estimator block */\n",
              "\n",
              "#sk-container-id-1 div.sk-parallel-item::after {\n",
              "  content: \"\";\n",
              "  width: 100%;\n",
              "  border-bottom: 2px solid var(--sklearn-color-text-on-default-background);\n",
              "  flex-grow: 1;\n",
              "}\n",
              "\n",
              "#sk-container-id-1 div.sk-parallel {\n",
              "  display: flex;\n",
              "  align-items: stretch;\n",
              "  justify-content: center;\n",
              "  background-color: var(--sklearn-color-background);\n",
              "  position: relative;\n",
              "}\n",
              "\n",
              "#sk-container-id-1 div.sk-parallel-item {\n",
              "  display: flex;\n",
              "  flex-direction: column;\n",
              "}\n",
              "\n",
              "#sk-container-id-1 div.sk-parallel-item:first-child::after {\n",
              "  align-self: flex-end;\n",
              "  width: 50%;\n",
              "}\n",
              "\n",
              "#sk-container-id-1 div.sk-parallel-item:last-child::after {\n",
              "  align-self: flex-start;\n",
              "  width: 50%;\n",
              "}\n",
              "\n",
              "#sk-container-id-1 div.sk-parallel-item:only-child::after {\n",
              "  width: 0;\n",
              "}\n",
              "\n",
              "/* Serial-specific style estimator block */\n",
              "\n",
              "#sk-container-id-1 div.sk-serial {\n",
              "  display: flex;\n",
              "  flex-direction: column;\n",
              "  align-items: center;\n",
              "  background-color: var(--sklearn-color-background);\n",
              "  padding-right: 1em;\n",
              "  padding-left: 1em;\n",
              "}\n",
              "\n",
              "\n",
              "/* Toggleable style: style used for estimator/Pipeline/ColumnTransformer box that is\n",
              "clickable and can be expanded/collapsed.\n",
              "- Pipeline and ColumnTransformer use this feature and define the default style\n",
              "- Estimators will overwrite some part of the style using the `sk-estimator` class\n",
              "*/\n",
              "\n",
              "/* Pipeline and ColumnTransformer style (default) */\n",
              "\n",
              "#sk-container-id-1 div.sk-toggleable {\n",
              "  /* Default theme specific background. It is overwritten whether we have a\n",
              "  specific estimator or a Pipeline/ColumnTransformer */\n",
              "  background-color: var(--sklearn-color-background);\n",
              "}\n",
              "\n",
              "/* Toggleable label */\n",
              "#sk-container-id-1 label.sk-toggleable__label {\n",
              "  cursor: pointer;\n",
              "  display: block;\n",
              "  width: 100%;\n",
              "  margin-bottom: 0;\n",
              "  padding: 0.5em;\n",
              "  box-sizing: border-box;\n",
              "  text-align: center;\n",
              "}\n",
              "\n",
              "#sk-container-id-1 label.sk-toggleable__label-arrow:before {\n",
              "  /* Arrow on the left of the label */\n",
              "  content: \"▸\";\n",
              "  float: left;\n",
              "  margin-right: 0.25em;\n",
              "  color: var(--sklearn-color-icon);\n",
              "}\n",
              "\n",
              "#sk-container-id-1 label.sk-toggleable__label-arrow:hover:before {\n",
              "  color: var(--sklearn-color-text);\n",
              "}\n",
              "\n",
              "/* Toggleable content - dropdown */\n",
              "\n",
              "#sk-container-id-1 div.sk-toggleable__content {\n",
              "  max-height: 0;\n",
              "  max-width: 0;\n",
              "  overflow: hidden;\n",
              "  text-align: left;\n",
              "  /* unfitted */\n",
              "  background-color: var(--sklearn-color-unfitted-level-0);\n",
              "}\n",
              "\n",
              "#sk-container-id-1 div.sk-toggleable__content.fitted {\n",
              "  /* fitted */\n",
              "  background-color: var(--sklearn-color-fitted-level-0);\n",
              "}\n",
              "\n",
              "#sk-container-id-1 div.sk-toggleable__content pre {\n",
              "  margin: 0.2em;\n",
              "  border-radius: 0.25em;\n",
              "  color: var(--sklearn-color-text);\n",
              "  /* unfitted */\n",
              "  background-color: var(--sklearn-color-unfitted-level-0);\n",
              "}\n",
              "\n",
              "#sk-container-id-1 div.sk-toggleable__content.fitted pre {\n",
              "  /* unfitted */\n",
              "  background-color: var(--sklearn-color-fitted-level-0);\n",
              "}\n",
              "\n",
              "#sk-container-id-1 input.sk-toggleable__control:checked~div.sk-toggleable__content {\n",
              "  /* Expand drop-down */\n",
              "  max-height: 200px;\n",
              "  max-width: 100%;\n",
              "  overflow: auto;\n",
              "}\n",
              "\n",
              "#sk-container-id-1 input.sk-toggleable__control:checked~label.sk-toggleable__label-arrow:before {\n",
              "  content: \"▾\";\n",
              "}\n",
              "\n",
              "/* Pipeline/ColumnTransformer-specific style */\n",
              "\n",
              "#sk-container-id-1 div.sk-label input.sk-toggleable__control:checked~label.sk-toggleable__label {\n",
              "  color: var(--sklearn-color-text);\n",
              "  background-color: var(--sklearn-color-unfitted-level-2);\n",
              "}\n",
              "\n",
              "#sk-container-id-1 div.sk-label.fitted input.sk-toggleable__control:checked~label.sk-toggleable__label {\n",
              "  background-color: var(--sklearn-color-fitted-level-2);\n",
              "}\n",
              "\n",
              "/* Estimator-specific style */\n",
              "\n",
              "/* Colorize estimator box */\n",
              "#sk-container-id-1 div.sk-estimator input.sk-toggleable__control:checked~label.sk-toggleable__label {\n",
              "  /* unfitted */\n",
              "  background-color: var(--sklearn-color-unfitted-level-2);\n",
              "}\n",
              "\n",
              "#sk-container-id-1 div.sk-estimator.fitted input.sk-toggleable__control:checked~label.sk-toggleable__label {\n",
              "  /* fitted */\n",
              "  background-color: var(--sklearn-color-fitted-level-2);\n",
              "}\n",
              "\n",
              "#sk-container-id-1 div.sk-label label.sk-toggleable__label,\n",
              "#sk-container-id-1 div.sk-label label {\n",
              "  /* The background is the default theme color */\n",
              "  color: var(--sklearn-color-text-on-default-background);\n",
              "}\n",
              "\n",
              "/* On hover, darken the color of the background */\n",
              "#sk-container-id-1 div.sk-label:hover label.sk-toggleable__label {\n",
              "  color: var(--sklearn-color-text);\n",
              "  background-color: var(--sklearn-color-unfitted-level-2);\n",
              "}\n",
              "\n",
              "/* Label box, darken color on hover, fitted */\n",
              "#sk-container-id-1 div.sk-label.fitted:hover label.sk-toggleable__label.fitted {\n",
              "  color: var(--sklearn-color-text);\n",
              "  background-color: var(--sklearn-color-fitted-level-2);\n",
              "}\n",
              "\n",
              "/* Estimator label */\n",
              "\n",
              "#sk-container-id-1 div.sk-label label {\n",
              "  font-family: monospace;\n",
              "  font-weight: bold;\n",
              "  display: inline-block;\n",
              "  line-height: 1.2em;\n",
              "}\n",
              "\n",
              "#sk-container-id-1 div.sk-label-container {\n",
              "  text-align: center;\n",
              "}\n",
              "\n",
              "/* Estimator-specific */\n",
              "#sk-container-id-1 div.sk-estimator {\n",
              "  font-family: monospace;\n",
              "  border: 1px dotted var(--sklearn-color-border-box);\n",
              "  border-radius: 0.25em;\n",
              "  box-sizing: border-box;\n",
              "  margin-bottom: 0.5em;\n",
              "  /* unfitted */\n",
              "  background-color: var(--sklearn-color-unfitted-level-0);\n",
              "}\n",
              "\n",
              "#sk-container-id-1 div.sk-estimator.fitted {\n",
              "  /* fitted */\n",
              "  background-color: var(--sklearn-color-fitted-level-0);\n",
              "}\n",
              "\n",
              "/* on hover */\n",
              "#sk-container-id-1 div.sk-estimator:hover {\n",
              "  /* unfitted */\n",
              "  background-color: var(--sklearn-color-unfitted-level-2);\n",
              "}\n",
              "\n",
              "#sk-container-id-1 div.sk-estimator.fitted:hover {\n",
              "  /* fitted */\n",
              "  background-color: var(--sklearn-color-fitted-level-2);\n",
              "}\n",
              "\n",
              "/* Specification for estimator info (e.g. \"i\" and \"?\") */\n",
              "\n",
              "/* Common style for \"i\" and \"?\" */\n",
              "\n",
              ".sk-estimator-doc-link,\n",
              "a:link.sk-estimator-doc-link,\n",
              "a:visited.sk-estimator-doc-link {\n",
              "  float: right;\n",
              "  font-size: smaller;\n",
              "  line-height: 1em;\n",
              "  font-family: monospace;\n",
              "  background-color: var(--sklearn-color-background);\n",
              "  border-radius: 1em;\n",
              "  height: 1em;\n",
              "  width: 1em;\n",
              "  text-decoration: none !important;\n",
              "  margin-left: 1ex;\n",
              "  /* unfitted */\n",
              "  border: var(--sklearn-color-unfitted-level-1) 1pt solid;\n",
              "  color: var(--sklearn-color-unfitted-level-1);\n",
              "}\n",
              "\n",
              ".sk-estimator-doc-link.fitted,\n",
              "a:link.sk-estimator-doc-link.fitted,\n",
              "a:visited.sk-estimator-doc-link.fitted {\n",
              "  /* fitted */\n",
              "  border: var(--sklearn-color-fitted-level-1) 1pt solid;\n",
              "  color: var(--sklearn-color-fitted-level-1);\n",
              "}\n",
              "\n",
              "/* On hover */\n",
              "div.sk-estimator:hover .sk-estimator-doc-link:hover,\n",
              ".sk-estimator-doc-link:hover,\n",
              "div.sk-label-container:hover .sk-estimator-doc-link:hover,\n",
              ".sk-estimator-doc-link:hover {\n",
              "  /* unfitted */\n",
              "  background-color: var(--sklearn-color-unfitted-level-3);\n",
              "  color: var(--sklearn-color-background);\n",
              "  text-decoration: none;\n",
              "}\n",
              "\n",
              "div.sk-estimator.fitted:hover .sk-estimator-doc-link.fitted:hover,\n",
              ".sk-estimator-doc-link.fitted:hover,\n",
              "div.sk-label-container:hover .sk-estimator-doc-link.fitted:hover,\n",
              ".sk-estimator-doc-link.fitted:hover {\n",
              "  /* fitted */\n",
              "  background-color: var(--sklearn-color-fitted-level-3);\n",
              "  color: var(--sklearn-color-background);\n",
              "  text-decoration: none;\n",
              "}\n",
              "\n",
              "/* Span, style for the box shown on hovering the info icon */\n",
              ".sk-estimator-doc-link span {\n",
              "  display: none;\n",
              "  z-index: 9999;\n",
              "  position: relative;\n",
              "  font-weight: normal;\n",
              "  right: .2ex;\n",
              "  padding: .5ex;\n",
              "  margin: .5ex;\n",
              "  width: min-content;\n",
              "  min-width: 20ex;\n",
              "  max-width: 50ex;\n",
              "  color: var(--sklearn-color-text);\n",
              "  box-shadow: 2pt 2pt 4pt #999;\n",
              "  /* unfitted */\n",
              "  background: var(--sklearn-color-unfitted-level-0);\n",
              "  border: .5pt solid var(--sklearn-color-unfitted-level-3);\n",
              "}\n",
              "\n",
              ".sk-estimator-doc-link.fitted span {\n",
              "  /* fitted */\n",
              "  background: var(--sklearn-color-fitted-level-0);\n",
              "  border: var(--sklearn-color-fitted-level-3);\n",
              "}\n",
              "\n",
              ".sk-estimator-doc-link:hover span {\n",
              "  display: block;\n",
              "}\n",
              "\n",
              "/* \"?\"-specific style due to the `<a>` HTML tag */\n",
              "\n",
              "#sk-container-id-1 a.estimator_doc_link {\n",
              "  float: right;\n",
              "  font-size: 1rem;\n",
              "  line-height: 1em;\n",
              "  font-family: monospace;\n",
              "  background-color: var(--sklearn-color-background);\n",
              "  border-radius: 1rem;\n",
              "  height: 1rem;\n",
              "  width: 1rem;\n",
              "  text-decoration: none;\n",
              "  /* unfitted */\n",
              "  color: var(--sklearn-color-unfitted-level-1);\n",
              "  border: var(--sklearn-color-unfitted-level-1) 1pt solid;\n",
              "}\n",
              "\n",
              "#sk-container-id-1 a.estimator_doc_link.fitted {\n",
              "  /* fitted */\n",
              "  border: var(--sklearn-color-fitted-level-1) 1pt solid;\n",
              "  color: var(--sklearn-color-fitted-level-1);\n",
              "}\n",
              "\n",
              "/* On hover */\n",
              "#sk-container-id-1 a.estimator_doc_link:hover {\n",
              "  /* unfitted */\n",
              "  background-color: var(--sklearn-color-unfitted-level-3);\n",
              "  color: var(--sklearn-color-background);\n",
              "  text-decoration: none;\n",
              "}\n",
              "\n",
              "#sk-container-id-1 a.estimator_doc_link.fitted:hover {\n",
              "  /* fitted */\n",
              "  background-color: var(--sklearn-color-fitted-level-3);\n",
              "}\n",
              "</style><div id=\"sk-container-id-1\" class=\"sk-top-container\"><div class=\"sk-text-repr-fallback\"><pre>GradientBoostingClassifier()</pre><b>In a Jupyter environment, please rerun this cell to show the HTML representation or trust the notebook. <br />On GitHub, the HTML representation is unable to render, please try loading this page with nbviewer.org.</b></div><div class=\"sk-container\" hidden><div class=\"sk-item\"><div class=\"sk-estimator fitted sk-toggleable\"><input class=\"sk-toggleable__control sk-hidden--visually\" id=\"sk-estimator-id-1\" type=\"checkbox\" checked><label for=\"sk-estimator-id-1\" class=\"sk-toggleable__label fitted sk-toggleable__label-arrow fitted\">&nbsp;&nbsp;GradientBoostingClassifier<a class=\"sk-estimator-doc-link fitted\" rel=\"noreferrer\" target=\"_blank\" href=\"https://scikit-learn.org/1.5/modules/generated/sklearn.ensemble.GradientBoostingClassifier.html\">?<span>Documentation for GradientBoostingClassifier</span></a><span class=\"sk-estimator-doc-link fitted\">i<span>Fitted</span></span></label><div class=\"sk-toggleable__content fitted\"><pre>GradientBoostingClassifier()</pre></div> </div></div></div></div>"
            ],
            "text/plain": [
              "GradientBoostingClassifier()"
            ]
          },
          "execution_count": 16,
          "metadata": {},
          "output_type": "execute_result"
        }
      ],
      "source": [
        "classifier.fit(X_train,Y_train)"
      ]
    },
    {
      "cell_type": "markdown",
      "metadata": {},
      "source": [
        "### **6. Model Evaluation**"
      ]
    },
    {
      "cell_type": "markdown",
      "metadata": {},
      "source": [
        "Evaluation on training data"
      ]
    },
    {
      "cell_type": "code",
      "execution_count": 17,
      "metadata": {},
      "outputs": [],
      "source": [
        "y_true = Y_train\n",
        "y_pred = classifier.predict(X_train)\n",
        "\n",
        "# Accuracy\n",
        "accuracy = accuracy_score(y_true, y_pred)\n",
        "\n",
        "\n",
        "# Confusion Matrix\n",
        "cm = confusion_matrix(y_true, y_pred)\n",
        "\n",
        "# Classification Report\n",
        "report = classification_report(y_true, y_pred)\n"
      ]
    },
    {
      "cell_type": "code",
      "execution_count": 18,
      "metadata": {},
      "outputs": [
        {
          "name": "stdout",
          "output_type": "stream",
          "text": [
            "Accuracy: 0.998622820338273\n",
            "Classification Report:\n",
            "              precision    recall  f1-score   support\n",
            "\n",
            "           0       1.00      1.00      1.00     63228\n",
            "           1       0.99      1.00      1.00     65828\n",
            "           2       1.00      1.00      1.00     63216\n",
            "           3       1.00      1.00      1.00     63202\n",
            "           4       1.00      1.00      1.00     63241\n",
            "           5       1.00      1.00      1.00     63225\n",
            "\n",
            "    accuracy                           1.00    381940\n",
            "   macro avg       1.00      1.00      1.00    381940\n",
            "weighted avg       1.00      1.00      1.00    381940\n",
            "\n"
          ]
        }
      ],
      "source": [
        "print(f\"Accuracy: {accuracy}\")\n",
        "print(\"Classification Report:\")\n",
        "print(report)"
      ]
    },
    {
      "cell_type": "code",
      "execution_count": 19,
      "metadata": {},
      "outputs": [
        {
          "data": {
            "text/plain": [
              "Text(0.5, 23.52222222222222, 'predicted label')"
            ]
          },
          "execution_count": 19,
          "metadata": {},
          "output_type": "execute_result"
        },
        {
          "data": {
            "image/png": "[encoded data removed]",
            "text/plain": [
              "<Figure size 640x480 with 2 Axes>"
            ]
          },
          "metadata": {},
          "output_type": "display_data"
        }
      ],
      "source": [
        "plt.figure()\n",
        "sns.heatmap(cm, annot=True)\n",
        "plt.ylabel('true label')\n",
        "plt.xlabel('predicted label')"
      ]
    },
    {
      "cell_type": "markdown",
      "metadata": {},
      "source": [
        "Evaluation on training data"
      ]
    },
    {
      "cell_type": "code",
      "execution_count": 20,
      "metadata": {},
      "outputs": [],
      "source": [
        "y_true = Y_test\n",
        "y_pred = classifier.predict(X_test)\n",
        "\n",
        "# Accuracy\n",
        "accuracy = accuracy_score(y_true, y_pred)\n",
        "\n",
        "\n",
        "# Confusion Matrix\n",
        "cm = confusion_matrix(y_true, y_pred)\n",
        "\n",
        "# Classification Report\n",
        "report = classification_report(y_true, y_pred)\n"
      ]
    },
    {
      "cell_type": "code",
      "execution_count": 21,
      "metadata": {},
      "outputs": [
        {
          "name": "stdout",
          "output_type": "stream",
          "text": [
            "Accuracy: 0.9984290890811218\n",
            "Classification Report:\n",
            "              precision    recall  f1-score   support\n",
            "\n",
            "           0       1.00      1.00      1.00     15807\n",
            "           1       0.99      1.00      1.00     16457\n",
            "           2       1.00      1.00      1.00     15804\n",
            "           3       1.00      1.00      1.00     15800\n",
            "           4       1.00      1.00      1.00     15811\n",
            "           5       1.00      1.00      1.00     15807\n",
            "\n",
            "    accuracy                           1.00     95486\n",
            "   macro avg       1.00      1.00      1.00     95486\n",
            "weighted avg       1.00      1.00      1.00     95486\n",
            "\n"
          ]
        }
      ],
      "source": [
        "print(f\"Accuracy: {accuracy}\")\n",
        "print(\"Classification Report:\")\n",
        "print(report)"
      ]
    },
    {
      "cell_type": "code",
      "execution_count": 22,
      "metadata": {},
      "outputs": [
        {
          "data": {
            "text/plain": [
              "Text(0.5, 23.52222222222222, 'predicted label')"
            ]
          },
          "execution_count": 22,
          "metadata": {},
          "output_type": "execute_result"
        },
        {
          "data": {
            "image/png": "[encoded data removed]",
            "text/plain": [
              "<Figure size 640x480 with 2 Axes>"
            ]
          },
          "metadata": {},
          "output_type": "display_data"
        }
      ],
      "source": [
        "plt.figure()\n",
        "sns.heatmap(cm, annot=True)\n",
        "plt.ylabel('true label')\n",
        "plt.xlabel('predicted label')"
      ]
    },
    {
      "cell_type": "code",
      "execution_count": 23,
      "metadata": {},
      "outputs": [],
      "source": [
        "def predict_normality(input_data):\n",
        "    input_data = np.array(input_data).reshape(1,-1)\n",
        "    df_input_data = pd.DataFrame(input_data,columns=['frame.time', 'frame.len', 'eth.src', 'eth.dst', 'ip.src', 'ip.dst',\n",
        "       'ip.proto', 'ip.len', 'tcp.len', 'tcp.srcport', 'tcp.dstport'])\n",
        "    prediction = classifier.predict(df_input_data)\n",
        "    return prediction[0]"
      ]
    },
    {
      "cell_type": "code",
      "execution_count": 24,
      "metadata": {},
      "outputs": [],
      "source": [
        "#saving the model\n",
        "with open('classifier_model.pkl', 'wb') as file:\n",
        "    joblib.dump(classifier, file)"
      ]
    }
  ],
  "metadata": {
    "colab": {
      "provenance": []
    },
    "kernelspec": {
      "display_name": "Python 3",
      "name": "python3"
    },
    "language_info": {
      "codemirror_mode": {
        "name": "ipython",
        "version": 3
      },
      "file_extension": ".py",
      "mimetype": "text/x-python",
      "name": "python",
      "nbconvert_exporter": "python",
      "pygments_lexer": "ipython3",
      "version": "3.12.1"
    }
  },
  "nbformat": 4,
  "nbformat_minor": 0
}
